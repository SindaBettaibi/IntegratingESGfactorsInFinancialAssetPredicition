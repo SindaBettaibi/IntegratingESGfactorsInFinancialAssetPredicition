{
 "cells": [
  {
   "cell_type": "code",
   "execution_count": 1,
   "id": "18bccf51-84e3-42a9-813c-4a9ffce2f01b",
   "metadata": {},
   "outputs": [
    {
     "name": "stdout",
     "output_type": "stream",
     "text": [
      "Overwriting sentence_extractor.py\n"
     ]
    }
   ],
   "source": [
    "%%writefile sentence_extractor.py\n",
    "import string\n",
    "import re\n",
    "import spacy\n",
    "\n",
    "class SentenceExtractor:\n",
    "    def __init__(self):\n",
    "        # Load the spaCy language model in the constructor\n",
    "        self.nlp = spacy.load(\"en_core_web_sm\")\n",
    "\n",
    "    def remove_non_ascii(self, text):\n",
    "        \"\"\"Remove non-ASCII characters from the text.\"\"\"\n",
    "        printable = set(string.printable)\n",
    "        return ''.join(filter(lambda x: x in printable, text))\n",
    "\n",
    "    def extract_sentences(self, text):\n",
    "        \"\"\"\n",
    "        Clean the input text and extract sentences using spaCy,\n",
    "        suitable for further analysis or data processing.\n",
    "        \"\"\"\n",
    "        pages = text.split('##PAGE_BREAK##')\n",
    "        sentences = []  # Store all sentences here\n",
    "    \n",
    "        for page in pages:\n",
    "            # Remove non-ASCII characters\n",
    "            cleaned_text = self.remove_non_ascii(page)\n",
    "    \n",
    "            # Skip pages with too few words\n",
    "            if len(cleaned_text.split()) < 300:\n",
    "                continue\n",
    "    \n",
    "            # Process each line in the page\n",
    "            for line in cleaned_text.split('\\n\\n'):\n",
    "                line = re.sub(r'\\s+', ' ', line)  # Normalize whitespace\n",
    "                line = re.sub(r'[^\\x00-\\x7F]+', ' ', line)  # Remove non-ASCII again after manipulation\n",
    "    \n",
    "                # Use spaCy to segment the cleaned text into sentences\n",
    "                doc = self.nlp(line)\n",
    "                for sent in doc.sents:\n",
    "                    clean_sentence = sent.text.strip()\n",
    "                    if 10 < len(clean_sentence.split()) < 100:  # Sentence length constraints\n",
    "                        sentences.append(clean_sentence)\n",
    "    \n",
    "        return sentences"
   ]
  },
  {
   "cell_type": "code",
   "execution_count": null,
   "id": "c3265467-fb7a-4b02-9c56-e1d35f292e38",
   "metadata": {},
   "outputs": [],
   "source": []
  }
 ],
 "metadata": {
  "kernelspec": {
   "display_name": "Python 3 (ipykernel)",
   "language": "python",
   "name": "python3"
  },
  "language_info": {
   "codemirror_mode": {
    "name": "ipython",
    "version": 3
   },
   "file_extension": ".py",
   "mimetype": "text/x-python",
   "name": "python",
   "nbconvert_exporter": "python",
   "pygments_lexer": "ipython3",
   "version": "3.11.7"
  }
 },
 "nbformat": 4,
 "nbformat_minor": 5
}
