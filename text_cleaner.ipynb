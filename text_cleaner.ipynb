{
 "cells": [
  {
   "cell_type": "code",
   "execution_count": 8,
   "id": "db11bedb-6646-4ccc-b0a9-f797db80b405",
   "metadata": {},
   "outputs": [
    {
     "name": "stdout",
     "output_type": "stream",
     "text": [
      "Overwriting text_cleaner.py\n"
     ]
    }
   ],
   "source": [
    "%%writefile text_cleaner.py\n",
    "import spacy\n",
    "import string\n",
    "import nltk\n",
    "from nltk.corpus import stopwords\n",
    "import re\n",
    "class TextCleaner:\n",
    "    def __init__(self):\n",
    "        self.nlp = spacy.load(\"en_core_web_sm\")\n",
    "        nltk.download('stopwords', quiet=True)\n",
    "        self.stop_words = stopwords.words('english')\n",
    "        \n",
    "    def remove_special_characters(self, text):\n",
    "        # Remove all newlines from the text\n",
    "        text = text.replace('\\n', '')\n",
    "    \n",
    "        # Remove hyphenated line breaks\n",
    "        text = re.sub(r'(\\w+)-\\s*(\\w+)', r'\\1\\2', text)\n",
    "    \n",
    "        # Add a space after periods where the next character is a capital letter without a preceding space\n",
    "        text = re.sub(r'(?<=\\.)(?=[A-Z])', ' ', text)\n",
    "    \n",
    "        # Insert a space between concatenated proper nouns or a proper noun followed by a capital letter\n",
    "        text = re.sub(r'(?<=\\w)([A-Z])([a-z]+)', r' \\1\\2', text)\n",
    "    \n",
    "        return text\n",
    "\n",
    "    def lowercase_text(self, text):\n",
    "        return text.lower()\n",
    "\n",
    "    def remove_entities(self, text):\n",
    "        doc = self.nlp(text)\n",
    "        return \" \".join([token.text for token in doc if not token.ent_type_ in [\"ORG\", \"DATE\", \"PERSON\", \"GPE\"]])\n",
    "\n",
    "    def remove_punctuation(self, text):\n",
    "        punctuation_free = \"\".join([i for i in text if i not in string.punctuation])\n",
    "        return punctuation_free\n",
    "\n",
    "    def remove_stopwords(self, text):\n",
    "        word_tokens = text.split()\n",
    "        filtered_text = [word for word in word_tokens if word not in self.stop_words]\n",
    "        return \" \".join(filtered_text)\n"
   ]
  }
 ],
 "metadata": {
  "kernelspec": {
   "display_name": "Python 3 (ipykernel)",
   "language": "python",
   "name": "python3"
  },
  "language_info": {
   "codemirror_mode": {
    "name": "ipython",
    "version": 3
   },
   "file_extension": ".py",
   "mimetype": "text/x-python",
   "name": "python",
   "nbconvert_exporter": "python",
   "pygments_lexer": "ipython3",
   "version": "3.11.7"
  }
 },
 "nbformat": 4,
 "nbformat_minor": 5
}
