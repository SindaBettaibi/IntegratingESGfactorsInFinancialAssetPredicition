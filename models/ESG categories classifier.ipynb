{
 "cells": [
  {
   "cell_type": "code",
   "execution_count": 27,
   "id": "e477c494-befb-43c1-85ca-443aebd9f4af",
   "metadata": {},
   "outputs": [],
   "source": [
    "import pandas as pd\n",
    "from importlib import reload\n",
    "import sys\n",
    "sys.path.append('../') \n",
    "import text_cleaner  # Import the module first\n",
    "text_cleaner = reload(text_cleaner)  # Reload the module\n",
    "from text_cleaner import TextCleaner \n",
    "from joblib import dump\n",
    "\n",
    "from sklearn.metrics import accuracy_score\n",
    "import sklearn.metrics as metrics\n",
    "from sklearn.model_selection import train_test_split\n",
    "from sklearn.metrics import confusion_matrix\n",
    "from sklearn.metrics import classification_report\n",
    "\n",
    "from sklearn.feature_extraction.text import TfidfVectorizer\n",
    "from sklearn.naive_bayes import MultinomialNB\n",
    "from sklearn.naive_bayes import GaussianNB\n",
    "from sklearn.linear_model import LogisticRegression\n",
    "from sklearn.svm import LinearSVC"
   ]
  },
  {
   "cell_type": "markdown",
   "id": "c3d41be0-dbb6-4abf-bcd6-c05106079479",
   "metadata": {},
   "source": [
    "## Data loading"
   ]
  },
  {
   "cell_type": "code",
   "execution_count": 16,
   "id": "50d93efd-65c4-4801-9ca8-515f88cc0f14",
   "metadata": {},
   "outputs": [
    {
     "data": {
      "text/html": [
       "<div>\n",
       "<style scoped>\n",
       "    .dataframe tbody tr th:only-of-type {\n",
       "        vertical-align: middle;\n",
       "    }\n",
       "\n",
       "    .dataframe tbody tr th {\n",
       "        vertical-align: top;\n",
       "    }\n",
       "\n",
       "    .dataframe thead th {\n",
       "        text-align: right;\n",
       "    }\n",
       "</style>\n",
       "<table border=\"1\" class=\"dataframe\">\n",
       "  <thead>\n",
       "    <tr style=\"text-align: right;\">\n",
       "      <th></th>\n",
       "      <th>Text</th>\n",
       "      <th>ESG_Category</th>\n",
       "    </tr>\n",
       "  </thead>\n",
       "  <tbody>\n",
       "    <tr>\n",
       "      <th>0</th>\n",
       "      <td>Historically, this category has included emiss...</td>\n",
       "      <td>Environmental</td>\n",
       "    </tr>\n",
       "    <tr>\n",
       "      <th>1</th>\n",
       "      <td>We benefited from the sponsorship of Rich Less...</td>\n",
       "      <td>General</td>\n",
       "    </tr>\n",
       "    <tr>\n",
       "      <th>2</th>\n",
       "      <td>Direct Air Capture (DAC) technology startup He...</td>\n",
       "      <td>Environmental</td>\n",
       "    </tr>\n",
       "    <tr>\n",
       "      <th>3</th>\n",
       "      <td>IT teams implementing HCI in a Windows Server ...</td>\n",
       "      <td>General</td>\n",
       "    </tr>\n",
       "    <tr>\n",
       "      <th>4</th>\n",
       "      <td>helps broaden students access to technology by...</td>\n",
       "      <td>General</td>\n",
       "    </tr>\n",
       "    <tr>\n",
       "      <th>...</th>\n",
       "      <td>...</td>\n",
       "      <td>...</td>\n",
       "    </tr>\n",
       "    <tr>\n",
       "      <th>19208</th>\n",
       "      <td>These governmental standards dictate ES Grelat...</td>\n",
       "      <td>Environmental</td>\n",
       "    </tr>\n",
       "    <tr>\n",
       "      <th>19209</th>\n",
       "      <td>Microsoft’s Cloud for Sustainability’s latest ...</td>\n",
       "      <td>Environmental</td>\n",
       "    </tr>\n",
       "    <tr>\n",
       "      <th>19210</th>\n",
       "      <td>Read more about what’s upcoming on our Microso...</td>\n",
       "      <td>General</td>\n",
       "    </tr>\n",
       "    <tr>\n",
       "      <th>19211</th>\n",
       "      <td>Thinking outside the factory That means manufa...</td>\n",
       "      <td>Environmental</td>\n",
       "    </tr>\n",
       "    <tr>\n",
       "      <th>19212</th>\n",
       "      <td>Improving health and living conditions Launche...</td>\n",
       "      <td>Social</td>\n",
       "    </tr>\n",
       "  </tbody>\n",
       "</table>\n",
       "<p>19213 rows × 2 columns</p>\n",
       "</div>"
      ],
      "text/plain": [
       "                                                    Text   ESG_Category\n",
       "0      Historically, this category has included emiss...  Environmental\n",
       "1      We benefited from the sponsorship of Rich Less...        General\n",
       "2      Direct Air Capture (DAC) technology startup He...  Environmental\n",
       "3      IT teams implementing HCI in a Windows Server ...        General\n",
       "4      helps broaden students access to technology by...        General\n",
       "...                                                  ...            ...\n",
       "19208  These governmental standards dictate ES Grelat...  Environmental\n",
       "19209  Microsoft’s Cloud for Sustainability’s latest ...  Environmental\n",
       "19210  Read more about what’s upcoming on our Microso...        General\n",
       "19211  Thinking outside the factory That means manufa...  Environmental\n",
       "19212  Improving health and living conditions Launche...         Social\n",
       "\n",
       "[19213 rows x 2 columns]"
      ]
     },
     "execution_count": 16,
     "metadata": {},
     "output_type": "execute_result"
    }
   ],
   "source": [
    "df = pd.read_csv('../data/labeled_esg_text.csv')\n",
    "df = df[['Text','ESG_Category']]\n",
    "df"
   ]
  },
  {
   "cell_type": "markdown",
   "id": "f1af9bb5-1d84-4302-b391-5fe790ca027d",
   "metadata": {},
   "source": [
    "## Text Preprocessing"
   ]
  },
  {
   "cell_type": "code",
   "execution_count": 17,
   "id": "8d7bc274-2410-4a2d-8bad-0dddc0020627",
   "metadata": {},
   "outputs": [
    {
     "data": {
      "text/html": [
       "<div>\n",
       "<style scoped>\n",
       "    .dataframe tbody tr th:only-of-type {\n",
       "        vertical-align: middle;\n",
       "    }\n",
       "\n",
       "    .dataframe tbody tr th {\n",
       "        vertical-align: top;\n",
       "    }\n",
       "\n",
       "    .dataframe thead th {\n",
       "        text-align: right;\n",
       "    }\n",
       "</style>\n",
       "<table border=\"1\" class=\"dataframe\">\n",
       "  <thead>\n",
       "    <tr style=\"text-align: right;\">\n",
       "      <th></th>\n",
       "      <th>Text</th>\n",
       "      <th>ESG_Category</th>\n",
       "      <th>cleaned_text</th>\n",
       "    </tr>\n",
       "  </thead>\n",
       "  <tbody>\n",
       "    <tr>\n",
       "      <th>0</th>\n",
       "      <td>Historically, this category has included emiss...</td>\n",
       "      <td>Environmental</td>\n",
       "      <td>historically category included emissions comme...</td>\n",
       "    </tr>\n",
       "    <tr>\n",
       "      <th>1</th>\n",
       "      <td>We benefited from the sponsorship of Rich Less...</td>\n",
       "      <td>General</td>\n",
       "      <td>benefited sponsorship rich lesser global chair...</td>\n",
       "    </tr>\n",
       "    <tr>\n",
       "      <th>2</th>\n",
       "      <td>Direct Air Capture (DAC) technology startup He...</td>\n",
       "      <td>Environmental</td>\n",
       "      <td>direct air capture dac technology startup heir...</td>\n",
       "    </tr>\n",
       "    <tr>\n",
       "      <th>3</th>\n",
       "      <td>IT teams implementing HCI in a Windows Server ...</td>\n",
       "      <td>General</td>\n",
       "      <td>teams implementing hci windows server deployme...</td>\n",
       "    </tr>\n",
       "    <tr>\n",
       "      <th>4</th>\n",
       "      <td>helps broaden students access to technology by...</td>\n",
       "      <td>General</td>\n",
       "      <td>helps broaden students access technology makin...</td>\n",
       "    </tr>\n",
       "    <tr>\n",
       "      <th>...</th>\n",
       "      <td>...</td>\n",
       "      <td>...</td>\n",
       "      <td>...</td>\n",
       "    </tr>\n",
       "    <tr>\n",
       "      <th>19208</th>\n",
       "      <td>These governmental standards dictate ES Grelat...</td>\n",
       "      <td>Environmental</td>\n",
       "      <td>governmental standards dictate es grelated act...</td>\n",
       "    </tr>\n",
       "    <tr>\n",
       "      <th>19209</th>\n",
       "      <td>Microsoft’s Cloud for Sustainability’s latest ...</td>\n",
       "      <td>Environmental</td>\n",
       "      <td>’s cloud sustainability ’s latest release also...</td>\n",
       "    </tr>\n",
       "    <tr>\n",
       "      <th>19210</th>\n",
       "      <td>Read more about what’s upcoming on our Microso...</td>\n",
       "      <td>General</td>\n",
       "      <td>read ’s upcoming microsoft industry clouds doc...</td>\n",
       "    </tr>\n",
       "    <tr>\n",
       "      <th>19211</th>\n",
       "      <td>Thinking outside the factory That means manufa...</td>\n",
       "      <td>Environmental</td>\n",
       "      <td>thinking outside factory means manufacturers s...</td>\n",
       "    </tr>\n",
       "    <tr>\n",
       "      <th>19212</th>\n",
       "      <td>Improving health and living conditions Launche...</td>\n",
       "      <td>Social</td>\n",
       "      <td>improving health living conditions launched wo...</td>\n",
       "    </tr>\n",
       "  </tbody>\n",
       "</table>\n",
       "<p>19213 rows × 3 columns</p>\n",
       "</div>"
      ],
      "text/plain": [
       "                                                    Text   ESG_Category  \\\n",
       "0      Historically, this category has included emiss...  Environmental   \n",
       "1      We benefited from the sponsorship of Rich Less...        General   \n",
       "2      Direct Air Capture (DAC) technology startup He...  Environmental   \n",
       "3      IT teams implementing HCI in a Windows Server ...        General   \n",
       "4      helps broaden students access to technology by...        General   \n",
       "...                                                  ...            ...   \n",
       "19208  These governmental standards dictate ES Grelat...  Environmental   \n",
       "19209  Microsoft’s Cloud for Sustainability’s latest ...  Environmental   \n",
       "19210  Read more about what’s upcoming on our Microso...        General   \n",
       "19211  Thinking outside the factory That means manufa...  Environmental   \n",
       "19212  Improving health and living conditions Launche...         Social   \n",
       "\n",
       "                                            cleaned_text  \n",
       "0      historically category included emissions comme...  \n",
       "1      benefited sponsorship rich lesser global chair...  \n",
       "2      direct air capture dac technology startup heir...  \n",
       "3      teams implementing hci windows server deployme...  \n",
       "4      helps broaden students access technology makin...  \n",
       "...                                                  ...  \n",
       "19208  governmental standards dictate es grelated act...  \n",
       "19209  ’s cloud sustainability ’s latest release also...  \n",
       "19210  read ’s upcoming microsoft industry clouds doc...  \n",
       "19211  thinking outside factory means manufacturers s...  \n",
       "19212  improving health living conditions launched wo...  \n",
       "\n",
       "[19213 rows x 3 columns]"
      ]
     },
     "execution_count": 17,
     "metadata": {},
     "output_type": "execute_result"
    }
   ],
   "source": [
    "cleaner = TextCleaner() \n",
    "# Apply the text-cleaning methods\n",
    "df['cleaned_text'] = df['Text'].apply(cleaner.remove_special_characters)\n",
    "df['cleaned_text'] = df['cleaned_text'].apply(cleaner.lowercase_text)\n",
    "df['cleaned_text'] = df['cleaned_text'].apply(cleaner.remove_entities)\n",
    "df['cleaned_text'] = df['cleaned_text'].apply(cleaner.remove_punctuation)\n",
    "df['cleaned_text'] = df['cleaned_text'].apply(cleaner.remove_stopwords)\n",
    "df"
   ]
  },
  {
   "cell_type": "markdown",
   "id": "c649dd30-831c-4625-a9a2-d7b1ee1a4789",
   "metadata": {},
   "source": [
    "## Train-test-split"
   ]
  },
  {
   "cell_type": "code",
   "execution_count": 20,
   "id": "9e7fd177-b935-4b2c-a2e7-8fc66e40e6f1",
   "metadata": {},
   "outputs": [
    {
     "name": "stdout",
     "output_type": "stream",
     "text": [
      "Training Data Length: 13449\n",
      "Testing Data Length: 5764\n"
     ]
    }
   ],
   "source": [
    "X = df['cleaned_text']  # Make sure it's a list of lists\n",
    "y = df['ESG_Category']\n",
    "\n",
    "# Split data into training and testing\n",
    "X_train, X_test, y_train, y_test = train_test_split(X, y, test_size=0.3, random_state=42)\n",
    "# Print the number of elements in training and testing sets\n",
    "print('Training Data Length:', len(X_train))\n",
    "print('Testing Data Length:', len(X_test))"
   ]
  },
  {
   "cell_type": "markdown",
   "id": "53b32274-b87e-48a0-826b-3029bcc0331c",
   "metadata": {},
   "source": [
    "## Feature Extraction"
   ]
  },
  {
   "cell_type": "code",
   "execution_count": 23,
   "id": "73d4fc3b-2305-446a-b9ee-105f0e9ce7c1",
   "metadata": {},
   "outputs": [
    {
     "data": {
      "text/plain": [
       "['tfidf_vectorizer.joblib']"
      ]
     },
     "execution_count": 23,
     "metadata": {},
     "output_type": "execute_result"
    }
   ],
   "source": [
    "tfidf = TfidfVectorizer(lowercase=False)\n",
    "\n",
    "# Fit on the training data and transform the training data\n",
    "X_train_tfidf = tfidf.fit_transform(X_train)\n",
    "\n",
    "# Transform the testing data using the same vectorizer (do not fit again)\n",
    "X_test_tfidf = tfidf.transform(X_test)\n",
    "# Assuming 'tfidf' is your fitted vectorizer\n",
    "dump(tfidf, 'tfidf_vectorizer.joblib')"
   ]
  },
  {
   "cell_type": "markdown",
   "id": "ce1737e0-64be-417f-a3ba-c782fcef57fe",
   "metadata": {},
   "source": [
    "## 1. Decision Tree"
   ]
  },
  {
   "cell_type": "code",
   "execution_count": 37,
   "id": "05c49637-27cd-4d9b-b42d-f97bf05f274a",
   "metadata": {},
   "outputs": [
    {
     "name": "stdout",
     "output_type": "stream",
     "text": [
      "\n",
      "Training Accuracy score: 0.9997025801174808\n",
      "Testing Accuracy score: 0.8648507980569049\n"
     ]
    }
   ],
   "source": [
    "from sklearn.tree import DecisionTreeClassifier\n",
    "\n",
    "dt = DecisionTreeClassifier(random_state=123)\n",
    "dt.fit(X_train_tfidf, y_train)\n",
    "\n",
    "y_pred_train = dt.predict(X_train_tfidf)\n",
    "y_pred_test = dt.predict(X_test_tfidf)\n",
    "print(\"\\nTraining Accuracy score:\",accuracy_score(y_train, y_pred_train))\n",
    "print(\"Testing Accuracy score:\",accuracy_score(y_test, y_pred_test))"
   ]
  },
  {
   "cell_type": "code",
   "execution_count": 38,
   "id": "8e5d59b8-0892-4e82-8b5b-93d44a9ccf8d",
   "metadata": {},
   "outputs": [
    {
     "data": {
      "text/html": [
       "<div>\n",
       "<style scoped>\n",
       "    .dataframe tbody tr th:only-of-type {\n",
       "        vertical-align: middle;\n",
       "    }\n",
       "\n",
       "    .dataframe tbody tr th {\n",
       "        vertical-align: top;\n",
       "    }\n",
       "\n",
       "    .dataframe thead th {\n",
       "        text-align: right;\n",
       "    }\n",
       "</style>\n",
       "<table border=\"1\" class=\"dataframe\">\n",
       "  <thead>\n",
       "    <tr style=\"text-align: right;\">\n",
       "      <th></th>\n",
       "      <th>Predicted Environmental</th>\n",
       "      <th>Predicted General</th>\n",
       "      <th>Predicted Governance</th>\n",
       "      <th>Predicted Social</th>\n",
       "    </tr>\n",
       "  </thead>\n",
       "  <tbody>\n",
       "    <tr>\n",
       "      <th>Actual Environmental</th>\n",
       "      <td>1693</td>\n",
       "      <td>89</td>\n",
       "      <td>0</td>\n",
       "      <td>68</td>\n",
       "    </tr>\n",
       "    <tr>\n",
       "      <th>Actual General</th>\n",
       "      <td>90</td>\n",
       "      <td>2332</td>\n",
       "      <td>18</td>\n",
       "      <td>187</td>\n",
       "    </tr>\n",
       "    <tr>\n",
       "      <th>Actual Governance</th>\n",
       "      <td>2</td>\n",
       "      <td>22</td>\n",
       "      <td>56</td>\n",
       "      <td>11</td>\n",
       "    </tr>\n",
       "    <tr>\n",
       "      <th>Actual Social</th>\n",
       "      <td>104</td>\n",
       "      <td>183</td>\n",
       "      <td>5</td>\n",
       "      <td>904</td>\n",
       "    </tr>\n",
       "  </tbody>\n",
       "</table>\n",
       "</div>"
      ],
      "text/plain": [
       "                      Predicted Environmental  Predicted General  \\\n",
       "Actual Environmental                     1693                 89   \n",
       "Actual General                             90               2332   \n",
       "Actual Governance                           2                 22   \n",
       "Actual Social                             104                183   \n",
       "\n",
       "                      Predicted Governance  Predicted Social  \n",
       "Actual Environmental                     0                68  \n",
       "Actual General                          18               187  \n",
       "Actual Governance                       56                11  \n",
       "Actual Social                            5               904  "
      ]
     },
     "execution_count": 38,
     "metadata": {},
     "output_type": "execute_result"
    }
   ],
   "source": [
    "conf_matrix = confusion_matrix(y_test, y_pred_test)\n",
    "\n",
    "# Create a DataFrame with correct ordering of categories\n",
    "df_conf_matrix = pd.DataFrame(conf_matrix,\n",
    "                              index=[f\"Actual {cls}\" for cls in dt.classes_],\n",
    "                              columns=[f\"Predicted {cls}\" for cls in dt.classes_])\n",
    "df_conf_matrix"
   ]
  },
  {
   "cell_type": "markdown",
   "id": "85701dbc-8d15-4cf1-ac2a-01f03aae9dd3",
   "metadata": {},
   "source": [
    "## 2. Logistic Regression"
   ]
  },
  {
   "cell_type": "code",
   "execution_count": 39,
   "id": "d95ec468-266d-4fce-bb2f-eac3a05882ba",
   "metadata": {},
   "outputs": [
    {
     "name": "stdout",
     "output_type": "stream",
     "text": [
      "\n",
      "Training Accuracy score: 0.9307755223436687\n",
      "Testing Accuracy score: 0.8721374045801527\n"
     ]
    },
    {
     "name": "stderr",
     "output_type": "stream",
     "text": [
      "/opt/anaconda3/lib/python3.11/site-packages/sklearn/linear_model/_logistic.py:458: ConvergenceWarning: lbfgs failed to converge (status=1):\n",
      "STOP: TOTAL NO. of ITERATIONS REACHED LIMIT.\n",
      "\n",
      "Increase the number of iterations (max_iter) or scale the data as shown in:\n",
      "    https://scikit-learn.org/stable/modules/preprocessing.html\n",
      "Please also refer to the documentation for alternative solver options:\n",
      "    https://scikit-learn.org/stable/modules/linear_model.html#logistic-regression\n",
      "  n_iter_i = _check_optimize_result(\n"
     ]
    }
   ],
   "source": [
    "lr = LogisticRegression(random_state=123)\n",
    "lr.fit(X_train_tfidf, y_train)\n",
    "\n",
    "y_pred_train = lr.predict(X_train_tfidf)\n",
    "y_pred_test = lr.predict(X_test_tfidf)\n",
    "print(\"\\nTraining Accuracy score:\",accuracy_score(y_train, y_pred_train))\n",
    "print(\"Testing Accuracy score:\",accuracy_score(y_test, y_pred_test))"
   ]
  },
  {
   "cell_type": "code",
   "execution_count": 40,
   "id": "38e77f4f-a468-4011-97bb-a944708f29c6",
   "metadata": {},
   "outputs": [
    {
     "data": {
      "text/html": [
       "<div>\n",
       "<style scoped>\n",
       "    .dataframe tbody tr th:only-of-type {\n",
       "        vertical-align: middle;\n",
       "    }\n",
       "\n",
       "    .dataframe tbody tr th {\n",
       "        vertical-align: top;\n",
       "    }\n",
       "\n",
       "    .dataframe thead th {\n",
       "        text-align: right;\n",
       "    }\n",
       "</style>\n",
       "<table border=\"1\" class=\"dataframe\">\n",
       "  <thead>\n",
       "    <tr style=\"text-align: right;\">\n",
       "      <th></th>\n",
       "      <th>Predicted Environmental</th>\n",
       "      <th>Predicted General</th>\n",
       "      <th>Predicted Governance</th>\n",
       "      <th>Predicted Social</th>\n",
       "    </tr>\n",
       "  </thead>\n",
       "  <tbody>\n",
       "    <tr>\n",
       "      <th>Actual Environmental</th>\n",
       "      <td>1584</td>\n",
       "      <td>203</td>\n",
       "      <td>1</td>\n",
       "      <td>62</td>\n",
       "    </tr>\n",
       "    <tr>\n",
       "      <th>Actual General</th>\n",
       "      <td>35</td>\n",
       "      <td>2538</td>\n",
       "      <td>0</td>\n",
       "      <td>54</td>\n",
       "    </tr>\n",
       "    <tr>\n",
       "      <th>Actual Governance</th>\n",
       "      <td>0</td>\n",
       "      <td>50</td>\n",
       "      <td>31</td>\n",
       "      <td>10</td>\n",
       "    </tr>\n",
       "    <tr>\n",
       "      <th>Actual Social</th>\n",
       "      <td>85</td>\n",
       "      <td>235</td>\n",
       "      <td>2</td>\n",
       "      <td>874</td>\n",
       "    </tr>\n",
       "  </tbody>\n",
       "</table>\n",
       "</div>"
      ],
      "text/plain": [
       "                      Predicted Environmental  Predicted General  \\\n",
       "Actual Environmental                     1584                203   \n",
       "Actual General                             35               2538   \n",
       "Actual Governance                           0                 50   \n",
       "Actual Social                              85                235   \n",
       "\n",
       "                      Predicted Governance  Predicted Social  \n",
       "Actual Environmental                     1                62  \n",
       "Actual General                           0                54  \n",
       "Actual Governance                       31                10  \n",
       "Actual Social                            2               874  "
      ]
     },
     "execution_count": 40,
     "metadata": {},
     "output_type": "execute_result"
    }
   ],
   "source": [
    "conf_matrix = confusion_matrix(y_test, y_pred_test)\n",
    "\n",
    "# Create a DataFrame with correct ordering of categories\n",
    "df_conf_matrix = pd.DataFrame(conf_matrix,\n",
    "                              index=[f\"Actual {cls}\" for cls in lr.classes_],\n",
    "                              columns=[f\"Predicted {cls}\" for cls in lr.classes_])\n",
    "df_conf_matrix"
   ]
  },
  {
   "cell_type": "markdown",
   "id": "d769bded-b8ef-4522-b263-f2c852ea7f63",
   "metadata": {},
   "source": [
    "## 3. Support Vector Machine Classifier"
   ]
  },
  {
   "cell_type": "code",
   "execution_count": 41,
   "id": "77f4c118-317f-46b2-befe-49a770d77c98",
   "metadata": {},
   "outputs": [
    {
     "name": "stdout",
     "output_type": "stream",
     "text": [
      "\n",
      "Training Accuracy score: 0.9861699754628597\n",
      "Testing Accuracy score: 0.8839347675225537\n"
     ]
    }
   ],
   "source": [
    "svc =  LinearSVC(class_weight='balanced')\n",
    "svc.fit(X_train_tfidf, y_train)\n",
    "\n",
    "y_pred_train = svc.predict(X_train_tfidf)\n",
    "y_pred_test = svc.predict(X_test_tfidf)\n",
    "print(\"\\nTraining Accuracy score:\",accuracy_score(y_train, y_pred_train))\n",
    "print(\"Testing Accuracy score:\",accuracy_score(y_test, y_pred_test))"
   ]
  },
  {
   "cell_type": "code",
   "execution_count": 42,
   "id": "5ff230a4-b63a-4442-bdac-959b65e61a27",
   "metadata": {},
   "outputs": [
    {
     "data": {
      "text/html": [
       "<div>\n",
       "<style scoped>\n",
       "    .dataframe tbody tr th:only-of-type {\n",
       "        vertical-align: middle;\n",
       "    }\n",
       "\n",
       "    .dataframe tbody tr th {\n",
       "        vertical-align: top;\n",
       "    }\n",
       "\n",
       "    .dataframe thead th {\n",
       "        text-align: right;\n",
       "    }\n",
       "</style>\n",
       "<table border=\"1\" class=\"dataframe\">\n",
       "  <thead>\n",
       "    <tr style=\"text-align: right;\">\n",
       "      <th></th>\n",
       "      <th>Predicted Environmental</th>\n",
       "      <th>Predicted General</th>\n",
       "      <th>Predicted Governance</th>\n",
       "      <th>Predicted Social</th>\n",
       "    </tr>\n",
       "  </thead>\n",
       "  <tbody>\n",
       "    <tr>\n",
       "      <th>Actual Environmental</th>\n",
       "      <td>1658</td>\n",
       "      <td>123</td>\n",
       "      <td>1</td>\n",
       "      <td>68</td>\n",
       "    </tr>\n",
       "    <tr>\n",
       "      <th>Actual General</th>\n",
       "      <td>67</td>\n",
       "      <td>2409</td>\n",
       "      <td>9</td>\n",
       "      <td>142</td>\n",
       "    </tr>\n",
       "    <tr>\n",
       "      <th>Actual Governance</th>\n",
       "      <td>0</td>\n",
       "      <td>19</td>\n",
       "      <td>64</td>\n",
       "      <td>8</td>\n",
       "    </tr>\n",
       "    <tr>\n",
       "      <th>Actual Social</th>\n",
       "      <td>76</td>\n",
       "      <td>146</td>\n",
       "      <td>10</td>\n",
       "      <td>964</td>\n",
       "    </tr>\n",
       "  </tbody>\n",
       "</table>\n",
       "</div>"
      ],
      "text/plain": [
       "                      Predicted Environmental  Predicted General  \\\n",
       "Actual Environmental                     1658                123   \n",
       "Actual General                             67               2409   \n",
       "Actual Governance                           0                 19   \n",
       "Actual Social                              76                146   \n",
       "\n",
       "                      Predicted Governance  Predicted Social  \n",
       "Actual Environmental                     1                68  \n",
       "Actual General                           9               142  \n",
       "Actual Governance                       64                 8  \n",
       "Actual Social                           10               964  "
      ]
     },
     "execution_count": 42,
     "metadata": {},
     "output_type": "execute_result"
    }
   ],
   "source": [
    "conf_matrix = confusion_matrix(y_test, y_pred_test)\n",
    "\n",
    "# Create a DataFrame with correct ordering of categories\n",
    "df_conf_matrix = pd.DataFrame(conf_matrix,\n",
    "                              index=[f\"Actual {cls}\" for cls in svc.classes_],\n",
    "                              columns=[f\"Predicted {cls}\" for cls in svc.classes_])\n",
    "df_conf_matrix"
   ]
  },
  {
   "cell_type": "markdown",
   "id": "c31a5f85-8018-4dd8-980e-edab8bec5ac6",
   "metadata": {},
   "source": [
    "## 4. Ensembling"
   ]
  },
  {
   "cell_type": "code",
   "execution_count": 43,
   "id": "a6688523-09e7-4f80-813b-71b3dece4d4d",
   "metadata": {},
   "outputs": [
    {
     "name": "stderr",
     "output_type": "stream",
     "text": [
      "/opt/anaconda3/lib/python3.11/site-packages/sklearn/linear_model/_logistic.py:458: ConvergenceWarning: lbfgs failed to converge (status=1):\n",
      "STOP: TOTAL NO. of ITERATIONS REACHED LIMIT.\n",
      "\n",
      "Increase the number of iterations (max_iter) or scale the data as shown in:\n",
      "    https://scikit-learn.org/stable/modules/preprocessing.html\n",
      "Please also refer to the documentation for alternative solver options:\n",
      "    https://scikit-learn.org/stable/modules/linear_model.html#logistic-regression\n",
      "  n_iter_i = _check_optimize_result(\n"
     ]
    },
    {
     "name": "stdout",
     "output_type": "stream",
     "text": [
      "Training Accuracy score: 0.988177559669864\n",
      "Testing Accuracy score: 0.8941707147814018\n"
     ]
    }
   ],
   "source": [
    "from sklearn.ensemble import VotingClassifier\n",
    "\n",
    "classifiers = [('Decision Tree', dt),\n",
    "               ('Logistic Regression', lr),\n",
    "                ('Support Vector machine', svc)\n",
    "              ]\n",
    "vc = VotingClassifier(estimators=classifiers)\n",
    "# Fit 'vc' to the traing set and predict test set labels\n",
    "vc.fit(X_train_tfidf, y_train)\n",
    "y_pred_train=vc.predict(X_train_tfidf)\n",
    "y_pred_test = vc.predict(X_test_tfidf)\n",
    "print(\"Training Accuracy score:\",accuracy_score(y_train, y_pred_train))\n",
    "print(\"Testing Accuracy score:\",accuracy_score(y_test, y_pred_test))"
   ]
  },
  {
   "cell_type": "code",
   "execution_count": 45,
   "id": "6564ee3e-f14e-45e1-81fa-b35fce609eee",
   "metadata": {},
   "outputs": [
    {
     "name": "stdout",
     "output_type": "stream",
     "text": [
      "               precision    recall  f1-score   support\n",
      "\n",
      "Environmental       0.93      0.90      0.91      1850\n",
      "      General       0.88      0.95      0.92      2627\n",
      "   Governance       0.90      0.59      0.72        91\n",
      "       Social       0.87      0.78      0.82      1196\n",
      "\n",
      "     accuracy                           0.89      5764\n",
      "    macro avg       0.89      0.81      0.84      5764\n",
      " weighted avg       0.89      0.89      0.89      5764\n",
      "\n",
      "Accuracy: 0.89\n"
     ]
    }
   ],
   "source": [
    "# Generate a classification report to evaluate the model\n",
    "print(classification_report(y_test, y_pred_test))\n",
    "\n",
    "# Calculate and print the accuracy of the model\n",
    "accuracy = accuracy_score(y_test, y_pred_test)\n",
    "print(f\"Accuracy: {accuracy:.2f}\")"
   ]
  },
  {
   "cell_type": "markdown",
   "id": "5b7c40af-966d-4d52-b82e-d3838876c52a",
   "metadata": {},
   "source": [
    "## Model Saving"
   ]
  },
  {
   "cell_type": "code",
   "execution_count": 44,
   "id": "46613df0-9185-4b3a-a247-7d754f52bc85",
   "metadata": {},
   "outputs": [
    {
     "name": "stdout",
     "output_type": "stream",
     "text": [
      "Model saved to voting_classifier_model.joblib\n"
     ]
    }
   ],
   "source": [
    "from joblib import dump, load\n",
    "\n",
    "# Save the model to disk\n",
    "model_filename = 'voting_classifier_model.joblib'\n",
    "dump(vc, model_filename)\n",
    "print(\"Model saved to\", model_filename)"
   ]
  },
  {
   "cell_type": "code",
   "execution_count": null,
   "id": "bfbf7157-88d1-4acf-92a7-fbd37d8fa390",
   "metadata": {},
   "outputs": [],
   "source": []
  }
 ],
 "metadata": {
  "kernelspec": {
   "display_name": "Python 3 (ipykernel)",
   "language": "python",
   "name": "python3"
  },
  "language_info": {
   "codemirror_mode": {
    "name": "ipython",
    "version": 3
   },
   "file_extension": ".py",
   "mimetype": "text/x-python",
   "name": "python",
   "nbconvert_exporter": "python",
   "pygments_lexer": "ipython3",
   "version": "3.11.7"
  }
 },
 "nbformat": 4,
 "nbformat_minor": 5
}
